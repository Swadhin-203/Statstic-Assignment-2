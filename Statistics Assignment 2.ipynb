{
 "cells": [
  {
   "cell_type": "markdown",
   "id": "35f2ae33",
   "metadata": {},
   "source": [
    "Q1. What are the three measures of central tendency?\n",
    "Ans:The three measures of central tendency are:\n",
    "\n",
    "1-Mean: The mean is calculated by adding up all the values in a dataset and then dividing by the number of values. It is also known as the average.\n",
    "\n",
    "2-Median: The median is the middle value in a dataset when the values are arranged in order. If there are an even number of values, the median is calculated by taking the average of the two middle values.\n",
    "\n",
    "3-Mode: The mode is the value that occurs most frequently in a dataset. It is the value that appears with the highest frequency.\n"
   ]
  },
  {
   "cell_type": "markdown",
   "id": "e998ea24",
   "metadata": {},
   "source": [
    "Q2. What is the difference between the mean, median, and mode? How are they used to measure the\n",
    "central tendency of a dataset?\n",
    "Ans:The mean, median, and mode are all measures of central tendency, which are used to describe the central value or typical value of a dataset.\n",
    "\n",
    "The mean is the arithmetic average of a set of values. It is calculated by summing all the values in the dataset and dividing by the total number of values. The mean is sensitive to outliers, which can significantly affect its value.\n",
    "\n",
    "The median is the middle value of a dataset when it is ordered from lowest to highest. If the dataset has an even number of values, the median is the average of the two middle values. The median is less sensitive to outliers than the mean, but it still considers all the values in the dataset.\n",
    "\n",
    "The mode is the most common value in a dataset. It is the value that appears most frequently. The mode can be useful when there are a few values that occur more frequently than others, but it is not always applicable or unique. If no value occurs more than once, there is no mode.\n",
    "\n",
    "To choose the appropriate measure of central tendency, you should consider the distribution of the dataset and the presence of outliers. If the dataset is normally distributed and does not have outliers, the mean is a good measure of central tendency. If the dataset has outliers or is skewed, the median may be a better measure of central tendency. If the dataset has categorical data or discrete data, the mode may be a more appropriate measure of central tendency."
   ]
  },
  {
   "cell_type": "code",
   "execution_count": 1,
   "id": "6389e852",
   "metadata": {},
   "outputs": [
    {
     "name": "stdout",
     "output_type": "stream",
     "text": [
      "Mean: 177.01875\n",
      "Median: 177.0\n",
      "Mode: 178\n"
     ]
    }
   ],
   "source": [
    "# Q3. Measure the three measures of central tendency for the given height data:\n",
    "# [178,177,176,177,178.2,178,175,179,180,175,178.9,176.2,177,172.5,178,176.5]\n",
    "import statistics\n",
    "\n",
    "data = [178,177,176,177,178.2,178,175,179,180,175,178.9,176.2,177,172.5,178,176.5]\n",
    "\n",
    "mean = statistics.mean(data)\n",
    "median = statistics.median(data)\n",
    "mode = statistics.mode(data)\n",
    "\n",
    "print(\"Mean:\", mean)\n",
    "print(\"Median:\", median)\n",
    "print(\"Mode:\", mode)\n"
   ]
  },
  {
   "cell_type": "code",
   "execution_count": 4,
   "id": "06f59e32",
   "metadata": {},
   "outputs": [
    {
     "name": "stdout",
     "output_type": "stream",
     "text": [
      "Standard deviation: 1.8472389305844188\n"
     ]
    }
   ],
   "source": [
    "# Q4. Find the standard deviation for the given data:\n",
    "# [178,177,176,177,178.2,178,175,179,180,175,178.9,176.2,177,172.5,178,176.5]\n",
    "import statistics\n",
    "\n",
    "data = [178,177,176,177,178.2,178,175,179,180,175,178.9,176.2,177,172.5,178,176.5]\n",
    "\n",
    "stdev = statistics.stdev(data)\n",
    "\n",
    "print(\"Standard deviation:\", stdev)\n",
    "\n",
    "\n"
   ]
  },
  {
   "cell_type": "markdown",
   "id": "5ce1d1b8",
   "metadata": {},
   "source": [
    "Q5. How are measures of dispersion such as range, variance, and standard deviation used to describe\n",
    "the spread of a dataset? Provide an example.\n",
    "\n",
    "Ans:Measures of dispersion such as range, variance, and standard deviation are used to describe the spread of a dataset by providing information about how far the values are from each other.\n",
    "\n",
    "Range: The range is the difference between the highest and the lowest values in the dataset. It gives an idea of the extent of the spread of the data. For example, if the range of a dataset is 20, it means that the highest value is 20 more than the lowest value.\n",
    "\n",
    "Variance: The variance is the average of the squared differences of each value from the mean. It gives a measure of how much the values deviate from the mean. A higher variance indicates that the values are more spread out from the mean.\n",
    "\n",
    "Standard deviation: The standard deviation is the square root of the variance. It measures the average amount of deviation of the values from the mean. It is the most commonly used measure of dispersion, and it gives an idea of how much the values vary from the mean.\n",
    "\n",
    "For example, consider the following dataset of exam scores:\n",
    "\n",
    "[65, 70, 75, 80, 85, 90]\n",
    "\n",
    "Range: The range of the dataset is 25, which means that the highest score is 25 more than the lowest score.\n",
    "\n",
    "Variance: The variance of the dataset is 62.5. This indicates that the scores are relatively spread out from the mean.\n",
    "\n",
    "Standard deviation: The standard deviation of the dataset is approximately 7.91. This indicates that the scores are varying by around 7.91 from the mean.\n",
    "\n",
    "Therefore, measures of dispersion are useful for describing how spread out the values in a dataset are from each other."
   ]
  },
  {
   "cell_type": "markdown",
   "id": "5c2a40aa",
   "metadata": {},
   "source": [
    "Q6. What is a Venn diagram?\n",
    "\n",
    "Ans:A Venn diagram is a graphical representation of the relationships between different sets of objects or groups. It consists of one or more circles or other shapes that overlap, with each circle representing a set and the overlapping areas representing the elements that are common to the sets.\n",
    "\n",
    "Venn diagrams are commonly used in mathematics, logic, statistics, and other fields to visually represent set operations such as union, intersection, and complement. They can also be used to compare and contrast different sets, identify patterns, and highlight similarities and differences."
   ]
  },
  {
   "cell_type": "markdown",
   "id": "7ea4f214",
   "metadata": {},
   "source": [
    "Q7. For the two given sets A = (2,3,4,5,6,7) & B = (0,2,6,8,10). Find:\n",
    "(i) A B\n",
    "(ii) A ⋃ B\n",
    "\n",
    "Ans:(i) A B represents the set of elements that are common to both set A and set B. In this case, the common elements between A and B are 2 and 6, so:\n",
    "\n",
    "A B = {2,6}\n",
    "\n",
    "(ii) A ⋃ B represents the union of set A and set B, which includes all the elements that are in either set A or set B, or both. In this case, the elements in A and B are:\n",
    "\n",
    "A = {2,3,4,5,6,7}\n",
    "B = {0,2,6,8,10}\n",
    "\n",
    "The union of A and B includes all these elements, without duplication:\n",
    "\n",
    "A ⋃ B = {0,2,3,4,5,6,7,8,10}"
   ]
  },
  {
   "cell_type": "markdown",
   "id": "16978229",
   "metadata": {},
   "source": [
    "Q8. What do you understand about skewness in data?\n",
    "\n",
    "Ans:Skewness in data refers to the extent to which the data is asymmetrical or skewed in one direction or the other from a normal or symmetric distribution. In other words, it measures the degree to which the data deviates from a perfectly symmetrical bell-shaped curve.\n",
    "\n",
    "If the data is perfectly symmetrical, the skewness is zero. If the data is skewed to the right, it has a positive skewness, meaning that the tail of the distribution is longer on the right side than on the left side. If the data is skewed to the left, it has a negative skewness, meaning that the tail of the distribution is longer on the left side than on the right side.\n",
    "\n",
    "Skewness can have important implications for statistical analysis because it can affect the validity of certain assumptions and tests. For example, if the data is significantly skewed, the mean may not be a representative measure of central tendency, and other measures such as the median or mode may be more appropriate. In addition, skewed data can affect the accuracy of some statistical tests, such as the t-test, which assumes a normal distribution"
   ]
  },
  {
   "cell_type": "markdown",
   "id": "e51ac9c9",
   "metadata": {},
   "source": [
    "Q9. If a data is right skewed then what will be the position of median with respect to mean?\n",
    "\n",
    "Ans:If a data is right skewed, then the median will be less than the mean. This is because in a right-skewed distribution, the tail of the distribution extends to the right (positive values) and the mean is influenced by the presence of the extreme values in the tail. These extreme values in the right tail pull the mean towards the right and make it larger than the median. The median, on the other hand, is not affected by the extreme values in the tail and represents the midpoint of the dataset. As a result, it is less than the mean in a right-skewed distribution.\n"
   ]
  },
  {
   "cell_type": "markdown",
   "id": "b1ab5883",
   "metadata": {},
   "source": [
    "Q10. Explain the difference between covariance and correlation. How are these measures used in\n",
    "statistical analysis?\n",
    "\n",
    "Ans:Covariance and correlation are both measures of the relationship between two variables in a dataset, but they differ in several important ways.\n",
    "\n",
    "Covariance measures how much two variables change together, and it can be positive (meaning that they tend to increase or decrease together) or negative (meaning that they tend to move in opposite directions). A higher covariance value indicates a stronger relationship between the variables, while a lower covariance value indicates a weaker relationship. However, it is difficult to compare covariance values across datasets because they depend on the scale of the variables.\n",
    "\n",
    "Correlation, on the other hand, measures the strength and direction of the relationship between two variables on a standardized scale. The correlation coefficient ranges from -1 to +1, where -1 indicates a perfect negative correlation (i.e. the variables move in opposite directions), +1 indicates a perfect positive correlation (i.e. the variables move together), and 0 indicates no correlation at all. Correlation is easier to interpret than covariance because it is not affected by the scale of the variables."
   ]
  },
  {
   "cell_type": "markdown",
   "id": "cbd9420f",
   "metadata": {},
   "source": [
    "Q11. What is the formula for calculating the sample mean? Provide an example calculation for a\n",
    "dataset.\n",
    "\n",
    "Ans:The formula for calculating the sample mean (also called the arithmetic mean) is:\n",
    "sample mean = sum of all observations / number of observations\n",
    "In other words, to find the sample mean, you add up all the values in the dataset and divide by the number of observations.\n",
    "For example, let's say we have the following dataset of test scores:\n",
    "78, 85, 92, 76, 89\n",
    "To find the sample mean, we add up all the scores and divide by the number of observations:\n",
    "(78 + 85 + 92 + 76 + 89) / 5 = 420 / 5 = 84\n",
    "So the sample mean for this dataset is 84."
   ]
  },
  {
   "cell_type": "markdown",
   "id": "b88b0622",
   "metadata": {},
   "source": [
    "Q12. For a normal distribution data what is the relationship between its measure of central tendency?\n",
    "\n",
    "Ans:For a normal distribution, the measures of central tendency (mean, median, and mode) are equal. This is because a normal distribution is symmetrical, with the same number of data points on either side of the mean.\n",
    "\n",
    "In other words, the peak of the normal distribution occurs at the mean, and the curve is symmetrical around this point. Therefore, the median, which is the middle value of the data when it is sorted in order, is also equal to the mean. The mode, which is the most frequently occurring value, is also equal to the mean in a normal distribution because all values occur with roughly equal frequency on either side of the mean.\n",
    "\n",
    "This property of normal distributions is often used in statistical analysis to make assumptions about the distribution of data and to make predictions based on sample statistics."
   ]
  },
  {
   "cell_type": "markdown",
   "id": "f4837bd4",
   "metadata": {},
   "source": [
    "Q13. How is covariance different from correlation?\n",
    "\n",
    "Ans:Covariance and correlation are both measures of the relationship between two variables, but they differ in several important ways.\n",
    "\n",
    "Covariance measures how much two variables change together, and it can be positive (meaning that they tend to increase or decrease together) or negative (meaning that they tend to move in opposite directions). A higher covariance value indicates a stronger relationship between the variables, while a lower covariance value indicates a weaker relationship. However, the value of covariance depends on the scale of the variables, which makes it difficult to compare covariance values across datasets.\n",
    "\n",
    "Correlation, on the other hand, measures the strength and direction of the relationship between two variables on a standardized scale. The correlation coefficient ranges from -1 to +1, where -1 indicates a perfect negative correlation (i.e. the variables move in opposite directions), +1 indicates a perfect positive correlation (i.e. the variables move together), and 0 indicates no correlation at all. Correlation is easier to interpret than covariance because it is not affected by the scale of the variables, and it provides a standardized measure of the strength of the relationship between the variables."
   ]
  },
  {
   "cell_type": "markdown",
   "id": "8633d979",
   "metadata": {},
   "source": [
    "Q14. How do outliers affect measures of central tendency and dispersion? Provide an example.\n",
    "\n",
    "Ans:Outliers are data points that are significantly different from the rest of the dataset. They can have a strong impact on measures of central tendency (mean, median, and mode) and dispersion (range, variance, and standard deviation) because they pull the overall statistics in their direction.\n",
    "\n",
    "For example, let's say we have the following dataset of salaries for a small company:\n",
    "\n",
    "40,000, 50,000, 55,000, 60,000, 65,000, 70,000, 75,000, 80,000, 85,000, 150,000\n",
    "\n",
    "In this dataset, the salary of $150,000 is an outlier because it is much higher than the other values. If we calculate the mean salary for this dataset, it will be influenced by the outlier, and the result will be skewed towards the higher salary:\n",
    "\n",
    "mean salary = (40,000 + 50,000 + 55,000 + 60,000 + 65,000 + 70,000 + 75,000 + 80,000 + 85,000 + 150,000) / 10\n",
    "mean salary = 70,500\n",
    "\n",
    "The median salary, on the other hand, is not affected by the outlier because it is the middle value when the data is sorted in order:\n",
    "\n",
    "median salary = 67,500\n",
    "\n",
    "The range, variance, and standard deviation are also affected by outliers. For example, the range will be larger if there is an outlier on either end of the data. The variance and standard deviation will be larger if the data points are spread out, including the outliers.\n"
   ]
  },
  {
   "cell_type": "code",
   "execution_count": null,
   "id": "4af6b3da",
   "metadata": {},
   "outputs": [],
   "source": []
  },
  {
   "cell_type": "code",
   "execution_count": null,
   "id": "c4dac766",
   "metadata": {},
   "outputs": [],
   "source": []
  },
  {
   "cell_type": "code",
   "execution_count": null,
   "id": "caf9ad09",
   "metadata": {},
   "outputs": [],
   "source": []
  },
  {
   "cell_type": "code",
   "execution_count": null,
   "id": "57243f27",
   "metadata": {},
   "outputs": [],
   "source": []
  }
 ],
 "metadata": {
  "kernelspec": {
   "display_name": "Python 3 (ipykernel)",
   "language": "python",
   "name": "python3"
  },
  "language_info": {
   "codemirror_mode": {
    "name": "ipython",
    "version": 3
   },
   "file_extension": ".py",
   "mimetype": "text/x-python",
   "name": "python",
   "nbconvert_exporter": "python",
   "pygments_lexer": "ipython3",
   "version": "3.10.5"
  }
 },
 "nbformat": 4,
 "nbformat_minor": 5
}
